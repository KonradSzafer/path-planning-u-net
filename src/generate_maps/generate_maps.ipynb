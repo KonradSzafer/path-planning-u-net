{
  "nbformat": 4,
  "nbformat_minor": 2,
  "metadata": {
    "colab": {
      "name": "generate_maps.ipynb",
      "provenance": [],
      "collapsed_sections": []
    },
    "kernelspec": {
      "name": "python3",
      "display_name": "Python 3"
    },
    "language_info": {
      "name": "python"
    }
  },
  "cells": [
    {
      "cell_type": "code",
      "execution_count": null,
      "source": [
        "import time\n",
        "from math import *\n",
        "import numpy as np\n",
        "import cv2\n",
        "from google.colab.patches import cv2_imshow\n",
        "from google.colab import drive\n",
        "drive.mount('/content/drive/')"
      ],
      "outputs": [],
      "metadata": {
        "id": "C7DBIddpi9SZ",
        "colab": {
          "base_uri": "https://localhost:8080/"
        },
        "outputId": "7709c730-27a1-498f-abf6-d18cd932f072"
      }
    },
    {
      "cell_type": "code",
      "execution_count": null,
      "source": [
        "def create_start_point(img, map_size):\n",
        "  x_pos = np.random.randint(low = 3, high = map_size[0]-3, size = 1)\n",
        "  y_pos = np.random.randint(low = 3, high = map_size[1]-3, size = 1)\n",
        "\n",
        "  occupied_pos = 255\n",
        "  while img[y_pos,x_pos,0] == occupied_pos:\n",
        "    x_pos = np.random.randint(low = 3, high = map_size[0]-3, size = 1)\n",
        "    y_pos = np.random.randint(low = 3, high = map_size[1]-3, size = 1)\n",
        "\n",
        "  cv2.rectangle(img, (x_pos-2, y_pos-2), (x_pos+2, y_pos+2), (0,255,0), -1)\n",
        "  return int(x_pos), int(y_pos)\n",
        "\n",
        "def create_end_point(img, start_x_pos, start_y_pos, map_size, min_distance):\n",
        "  x_pos = np.random.randint(low = 3, high = map_size[0]-3, size = 1)\n",
        "  y_pos = np.random.randint(low = 3, high = map_size[1]-3, size = 1)\n",
        "\n",
        "  occupied_pos = 255\n",
        "  while True:\n",
        "    x_pos = np.random.randint(low = 3, high = map_size[0]-3, size = 1)\n",
        "    y_pos = np.random.randint(low = 3, high = map_size[1]-3, size = 1)\n",
        "\n",
        "    if img[y_pos,x_pos,0] != occupied_pos:\n",
        "      if sqrt(pow( start_x_pos-x_pos,2) + pow(start_y_pos-y_pos,2) ) > float(min_distance):\n",
        "        break\n",
        "\n",
        "  cv2.rectangle(img, (x_pos-2, y_pos-2), (x_pos+2, y_pos+2), (0,255,0), -1)\n",
        "  return int(x_pos), int(y_pos)\n",
        "\n",
        "def create_rect(img, x_pos, y_pos, width, height):\n",
        "  cv2.rectangle(img, (x_pos, y_pos), (x_pos+width, y_pos+height), (255,0,0), -1)"
      ],
      "outputs": [],
      "metadata": {
        "id": "yWHVfLoPtSVj"
      }
    },
    {
      "cell_type": "code",
      "execution_count": null,
      "source": [
        "# image size\n",
        "map_width = 100\n",
        "map_height = 100\n",
        "map_size = [map_width, map_height]\n",
        "# generate image\n",
        "img = np.ones((map_width, map_height, 3), np.uint8)*0"
      ],
      "outputs": [],
      "metadata": {
        "id": "0ZsrR-WTt-MJ"
      }
    },
    {
      "cell_type": "code",
      "execution_count": null,
      "source": [
        "rect_count = 20\n",
        "rect_min = 5\n",
        "rect_max = 20\n",
        "for i in range(rect_count):\n",
        "  rect_width = np.random.randint(low = rect_min, high = rect_max, size = 1)\n",
        "  rect_heigth = np.random.randint(low = rect_min, high = rect_max, size = 1)\n",
        "  pos = np.random.randint(low = 0, high = map_width-rect_width, size = 4)\n",
        "  create_rect(img, pos[0], pos[1], rect_width, rect_heigth)\n",
        "\n",
        "start_x_pos, start_y_pos = create_start_point(img, map_size)\n",
        "end_x_pos, end_y_pos = create_end_point(img, start_x_pos, start_y_pos, map_size, min_distance=65)"
      ],
      "outputs": [],
      "metadata": {
        "id": "_8-mk2mBuAoP"
      }
    },
    {
      "cell_type": "code",
      "execution_count": null,
      "source": [
        "cv2_imshow(img)"
      ],
      "outputs": [],
      "metadata": {
        "id": "DKmHCULgj142",
        "colab": {
          "base_uri": "https://localhost:8080/",
          "height": 116
        },
        "outputId": "e944f7b7-8df9-409a-b03e-a1145b5c2883"
      }
    },
    {
      "cell_type": "code",
      "execution_count": null,
      "source": [
        "maps_count = 1000\n",
        "maps_data = [['map name','start x','start y','end x','end y']]\n",
        "\n",
        "for n in range(maps_count):\n",
        "  # image size\n",
        "  map_width = 100\n",
        "  map_height = 100\n",
        "  map_size = [map_width, map_height]\n",
        "  \n",
        "  # generate empty image\n",
        "  img = np.ones((map_width, map_height, 3), np.uint8)*0\n",
        "\n",
        "  # create obstacles\n",
        "  rect_count = 20\n",
        "  rect_min = 5\n",
        "  rect_max = 20\n",
        "  for i in range(rect_count):\n",
        "    rect_width = np.random.randint(low = rect_min, high = rect_max, size = 1)\n",
        "    rect_heigth = np.random.randint(low = rect_min, high = rect_max, size = 1)\n",
        "    pos = np.random.randint(low = 0, high = map_width-rect_width, size = 4)\n",
        "    create_rect(img, pos[0], pos[1], rect_width, rect_heigth)\n",
        "\n",
        "  # create start and end points\n",
        "  start_x_pos, start_y_pos = create_start_point(img, map_size)\n",
        "  end_x_pos, end_y_pos = create_end_point(img, start_x_pos, start_y_pos, map_size, min_distance=65)\n",
        "\n",
        "  # create map name\n",
        "  map_data = ['map_'+str(n)+'.png', str(start_x_pos), str(start_y_pos), str(end_x_pos), str(end_y_pos)]\n",
        "  maps_data.append(map_data)\n",
        "  print(map_data)\n",
        "  cv2_imshow(img)\n",
        "\n",
        "  # save image\n",
        "  if not cv2.imwrite('drive/MyDrive/Colab/Semestr_4/planowanie_ruchu/maps2/map_'+str(n)+'.png', img):\n",
        "    raise Exception('Could not write image')"
      ],
      "outputs": [],
      "metadata": {
        "colab": {
          "base_uri": "https://localhost:8080/",
          "height": 1000
        },
        "id": "0bgxkc7p9K-o",
        "outputId": "2c4e54e1-d8fb-444d-d55d-038491420f85"
      }
    },
    {
      "cell_type": "code",
      "execution_count": null,
      "source": [
        "import csv\n",
        "\n",
        "filename = 'drive/MyDrive/Colab/Semestr_4/planowanie_ruchu/maps2/maps_coordinates.csv'\n",
        "with open(filename, 'w') as csvfile:\n",
        "  writer = csv.writer(csvfile)\n",
        "  writer.writerows(maps_data)"
      ],
      "outputs": [],
      "metadata": {
        "id": "yza1JnSMGqRn"
      }
    }
  ]
}